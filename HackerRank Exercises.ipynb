{
 "cells": [
  {
   "cell_type": "code",
   "execution_count": null,
   "metadata": {},
   "outputs": [],
   "source": [
    "def is_leap(year):\n",
    "    leap = False\n",
    "    \n",
    "    if year % 4 == 0:\n",
    "        if not(year % 100 == 0) and (year % 400 == 0):\n",
    "            leap = True\n",
    "        else:\n",
    "            leap = False            \n",
    "    else:\n",
    "        pass\n",
    "    \n",
    "    return leap"
   ]
  },
  {
   "cell_type": "code",
   "execution_count": null,
   "metadata": {},
   "outputs": [],
   "source": [
    "n = int(input())\n",
    "for i in range(1, n, 1):\n",
    "    print(i * ((10**i-1) // 9 ))"
   ]
  },
  {
   "cell_type": "code",
   "execution_count": null,
   "metadata": {},
   "outputs": [],
   "source": [
    "help(next)"
   ]
  },
  {
   "cell_type": "code",
   "execution_count": null,
   "metadata": {},
   "outputs": [],
   "source": [
    "x = map(int, input().split())\n",
    "print(x)\n",
    "iter(x)"
   ]
  },
  {
   "cell_type": "code",
   "execution_count": null,
   "metadata": {},
   "outputs": [],
   "source": [
    "x = list(map(int, input().split()))\n",
    "print(x)\n",
    "\n",
    "x = [['insert', '0', '1'], ['append','1']]\n",
    "\n",
    "for command in x:\n",
    "    command(map(int, command[1:]))\n",
    "print(x)"
   ]
  },
  {
   "cell_type": "code",
   "execution_count": null,
   "metadata": {},
   "outputs": [],
   "source": [
    "x = 3\n",
    "for i in range(x): \n",
    "   print(i)"
   ]
  },
  {
   "cell_type": "code",
   "execution_count": null,
   "metadata": {},
   "outputs": [],
   "source": [
    "x, y, z, n = 1, 1, 2, 3\n",
    "resultado = []\n",
    "\n",
    "for i in range(x + 1):\n",
    "    for j in range(y + 1):\n",
    "        for k in range(z + 1):\n",
    "            if i + j + k != n:\n",
    "                resultado.append([i, j, k])\n",
    "\n",
    "print(resultado)\n"
   ]
  },
  {
   "cell_type": "code",
   "execution_count": null,
   "metadata": {},
   "outputs": [],
   "source": [
    "x, y, z, n = 1, 1, 2, 3\n",
    "resultado = [\n",
    "        [i, j, k] \n",
    "        for i in range(x+1) \n",
    "        for j in range(y+1)\n",
    "        for k in range(z+1)     \n",
    "        if i + j + k != n\n",
    "    ]\n",
    "\n",
    "print(resultado)"
   ]
  },
  {
   "cell_type": "code",
   "execution_count": null,
   "metadata": {},
   "outputs": [],
   "source": [
    "x = int(input())\n",
    "y = int(input())\n",
    "z = int(input())\n",
    "n = int(input())\n",
    "\n",
    "list = [x, y, z]\n",
    "z = [0, 0, 0]\n",
    "i = 0\n",
    "permuta = [z for chave in ]\n",
    " \n",
    "print(permuta)\n",
    "\n",
    "# chaves_maximas = [chave for chave, valor in contagem.items() if x+y+z != n]"
   ]
  },
  {
   "cell_type": "code",
   "execution_count": null,
   "metadata": {},
   "outputs": [],
   "source": [
    "x = int(input())\n",
    "y = int(input())\n",
    "z = int(input())\n",
    "\n",
    "arr = []\n",
    "\n",
    "for i in range(0, x+1, 1):\n",
    "    arr.append(i)\n",
    "    for j in range(0, y+1, 1):\n",
    "        arr.append(j)\n",
    "        for k in range(0, z+1, 1):\n",
    "            arr.append(k)\n",
    "\n",
    "print(arr)"
   ]
  },
  {
   "cell_type": "code",
   "execution_count": null,
   "metadata": {},
   "outputs": [],
   "source": [
    "n = int(input())\n",
    "student_marks = {}\n",
    "for _ in range(n):\n",
    "    name, *line = input().split()\n",
    "    scores = list(map(float, line))\n",
    "    student_marks[name] = scores\n",
    "query_name = input()"
   ]
  },
  {
   "cell_type": "code",
   "execution_count": null,
   "metadata": {},
   "outputs": [],
   "source": [
    "student_marks = {\"alpha\":[8, 9, 10], \"beta\":[7, 6, 5]}\n",
    "print(f\"{sum(student_marks[\"alpha\"])//len(student_marks[\"alpha\"]):.2f}\")"
   ]
  },
  {
   "cell_type": "code",
   "execution_count": null,
   "metadata": {},
   "outputs": [],
   "source": [
    "def solve(meal_cost, tip_percent, tax_percent):\n",
    "    total = meal_cost * (1 + ((tip_percent + tax_percent) / 100))\n",
    "    print(f\"{total}\")\n",
    "\n",
    "if __name__ == '__main__':\n",
    "    meal_cost = float(input().strip())\n",
    "\n",
    "    tip_percent = int(input().strip())\n",
    "\n",
    "    tax_percent = int(input().strip())\n",
    "\n",
    "    solve(meal_cost, tip_percent, tax_percent)\n"
   ]
  },
  {
   "cell_type": "code",
   "execution_count": null,
   "metadata": {},
   "outputs": [],
   "source": [
    "n = int(input())\n",
    "array = str(input())\n",
    "\n",
    "array_str = array.split()\n",
    "array_int = [int(element) for element in array_str]\n",
    "n = len(array_int)\n",
    "contagem = {}\n",
    "chaves_maximas = []\n",
    "\n",
    "def mediana(array_int):\n",
    "    array_int.sort()\n",
    "    if n % 2 == 0:\n",
    "        mediana = (array_int[ n //2 - 1] + array_int[ n //2]) / 2\n",
    "    else:\n",
    "        mediana = (array_int[ n // 2])\n",
    "        \n",
    "    return mediana\n",
    "\n",
    "def moda(array_int):\n",
    "    for elemento in array_int:\n",
    "        if elemento in contagem:\n",
    "            contagem[elemento] += 1\n",
    "        else:\n",
    "            contagem[elemento] = 1\n",
    "    \n",
    "    valor_max = max(contagem.values())\n",
    "    chaves_maximas = [chave for chave, valor in contagem.items() if valor == valor_max]\n",
    "    moda = min(chaves_maximas)\n",
    "\n",
    "    return moda\n",
    "\n",
    "print(f\"{sum(array_int) / n:.1f}\")\n",
    "print(f\"{mediana(array_int):.1f}\")\n",
    "print(f\"{moda(array_int)}\")"
   ]
  },
  {
   "cell_type": "code",
   "execution_count": null,
   "metadata": {},
   "outputs": [],
   "source": [
    "x = [1, 2, 3]\n",
    "w = [5, 6, 7]\n",
    "y = []\n",
    "n = 3\n",
    "\n",
    "for i in range(0, n, 1):\n",
    "    y.append((x[i]) * (w[i]))\n",
    "print(y)\n",
    "print(f\"{sum(y) / sum(w):.1f}\")\n"
   ]
  },
  {
   "cell_type": "code",
   "execution_count": 1,
   "metadata": {},
   "outputs": [
    {
     "ename": "NameError",
     "evalue": "name 'oi' is not defined",
     "output_type": "error",
     "traceback": [
      "\u001b[1;31m---------------------------------------------------------------------------\u001b[0m",
      "\u001b[1;31mNameError\u001b[0m                                 Traceback (most recent call last)",
      "Cell \u001b[1;32mIn[1], line 1\u001b[0m\n\u001b[1;32m----> 1\u001b[0m \u001b[38;5;28mprint\u001b[39m(\u001b[43moi\u001b[49m)\n",
      "\u001b[1;31mNameError\u001b[0m: name 'oi' is not defined"
     ]
    }
   ],
   "source": [
    "print(oi)"
   ]
  },
  {
   "cell_type": "code",
   "execution_count": null,
   "metadata": {},
   "outputs": [],
   "source": [
    "n = int(input())\n",
    "arr = list(map(int, input().split()))\n",
    "runner_up = sorted(set(arr), reverse=True)[1]\n",
    "print(runner_up)"
   ]
  },
  {
   "cell_type": "code",
   "execution_count": null,
   "metadata": {},
   "outputs": [],
   "source": [
    "records = [['antonio', 10], ['joao', 5]]\n",
    "print(records[0][1])"
   ]
  },
  {
   "cell_type": "code",
   "execution_count": null,
   "metadata": {},
   "outputs": [],
   "source": [
    "oi = [1, 2, 4, 7, 24, 52, 5, 5, 3]\n",
    "tchau = sorted(set(oi))\n",
    "print(tchau)\n",
    "print(tchau[-2])"
   ]
  },
  {
   "cell_type": "code",
   "execution_count": null,
   "metadata": {},
   "outputs": [],
   "source": [
    "for i in range(6):\n",
    "    x = int(input())\n",
    "    if x < \n"
   ]
  },
  {
   "cell_type": "code",
   "execution_count": null,
   "metadata": {},
   "outputs": [],
   "source": [
    "import math\n",
    "math.floor(15 / 2)"
   ]
  },
  {
   "cell_type": "code",
   "execution_count": null,
   "metadata": {},
   "outputs": [],
   "source": [
    "a = [1, 2, 3, 4, 5, 6, 7, 8, 9, 10, 11, 12, 13]\n",
    "n = len(a)\n",
    "q1 = sum([i for i in a if i < a[n//2]]) / (n//2)\n",
    "q2 = a[n//2]\n",
    "q3 = sum([i for i in a if i > a[n//2]]) / (n//2)\n",
    "\n",
    "print(q1)\n",
    "print(q2)\n",
    "print(q3)"
   ]
  },
  {
   "cell_type": "code",
   "execution_count": null,
   "metadata": {},
   "outputs": [],
   "source": [
    "a = [3, 4, 4, 4, 7, 10, 12, 12, 14, 16, 17, 18]\n",
    "n = 12\n",
    "if n % 2 == 0:\n",
    "    q1 = sum([i for i in a if i <= a[n//2-1]]) / (n//2)\n",
    "    q2 = (a[n//2] + a[n//2-1]) / 2\n",
    "    q3 = sum([i for i in a if i > a[n//2-1]]) / (n//2)\n",
    "else:\n",
    "    q1 = sum([i for i in a if i < a[n//2]]) / (n//2)\n",
    "    q2 = a[n//2]\n",
    "    q3 = sum([i for i in a if i > a[n//2]]) / (n//2)\n",
    "\n",
    "print(q1)\n",
    "print(round(q1))\n",
    "print(round(q2))\n",
    "print(round(q3))\n"
   ]
  },
  {
   "cell_type": "code",
   "execution_count": null,
   "metadata": {},
   "outputs": [],
   "source": [
    "a = [1, 2, 3]\n",
    "b = a  # b é uma referência ao mesmo objeto que a\n",
    "\n",
    "a.append(4)\n",
    "print(b)  # Saída: [1, 2, 3, 4] (a foi modificado, pois a e b referem-se ao mesmo objeto)"
   ]
  },
  {
   "cell_type": "code",
   "execution_count": null,
   "metadata": {},
   "outputs": [],
   "source": [
    "nome = 'Antonio   '\n",
    "\n",
    "name = nome.strip()\n",
    "print(name)\n",
    "print(len(name))"
   ]
  },
  {
   "cell_type": "code",
   "execution_count": null,
   "metadata": {},
   "outputs": [],
   "source": [
    "a = sorted([3, 7, 8, 5, 12, 14, 21, 15, 18, 14])\n",
    "print(a)\n",
    "n = len(a)\n",
    "print(n)\n",
    "\n",
    "def calcular_mediana(arr):\n",
    "    n = len(arr)\n",
    "    print(arr)\n",
    "    if n % 2 == 0:\n",
    "        mediana = (arr[n//2-1] + arr[n//2])//2\n",
    "    else:\n",
    "        mediana = arr[n//2]\n",
    "    return mediana\n",
    "if n % 2 == 0:\n",
    "    lh = a[:n//2+1]\n",
    "    print(lh)\n",
    "    q1 = calcular_mediana(lh)\n",
    "    q2 = (a[n//2-1] + a[n//2])//2\n",
    "    gh = a[n//2:]\n",
    "    q3 = calcular_mediana(gh)\n",
    "else:\n",
    "    lh = a[:n//2]\n",
    "    q1 = calcular_mediana(lh)\n",
    "    q2 = a[n//2]\n",
    "    gh = a[n//2+1:]\n",
    "    q3 = calcular_mediana(gh)\n",
    "\n",
    "q = map(str,[q1, q2, q3])\n",
    "\n",
    "print('\\n'.join(map(str,[q1, q2, q3])))"
   ]
  },
  {
   "cell_type": "code",
   "execution_count": null,
   "metadata": {},
   "outputs": [],
   "source": [
    "records = []\n",
    "bad_students = []\n",
    "raw_scores = []\n",
    "segundo_menor = primeiro_menor = float('inf')\n",
    "\n",
    "for _ in range(int(input())):\n",
    "    name = input()\n",
    "    score = float(input())\n",
    "    records.append([name, score])\n",
    "    raw_scores.append(score)\n",
    "\n",
    "scores = sorted(set(raw_scores))\n",
    "sec_low = scores[1]\n",
    "\n",
    "for student in records:\n",
    "    if student[1] == sec_low:\n",
    "        bad_students.append(student[0])\n",
    "\n",
    "print('\\n'.join(sorted(bad_students)))"
   ]
  },
  {
   "cell_type": "code",
   "execution_count": null,
   "metadata": {},
   "outputs": [],
   "source": [
    "a = [['insert', '10', '0'], ['pop', '4']]\n",
    "a[0][-1] = int(a[0][-1])\n",
    "print(a)"
   ]
  },
  {
   "cell_type": "code",
   "execution_count": null,
   "metadata": {},
   "outputs": [],
   "source": [
    "# Receber um valor inteiro indicando o número de comandos a serem lidos\n",
    "# Iterar sobre os comandos de lista (insert, append, pop etc) aplicando-os\n",
    "    # Manipular a str do comando para usa-la diretamente nas operações da lista\n",
    "        \n",
    "# Se o comando for print, printar o estado da lista da iteração\n",
    "\n",
    "comandos = []\n",
    "resultado = []\n",
    "\n",
    "if __name__ == '__main__':\n",
    "    N = int(input())\n",
    "    for i in range(N):\n",
    "        comandos.append(input().strip().split())\n",
    "\n",
    "        subcomandos = comandos[0]\n",
    "\n",
    "        for i in range(1, len(subcomandos)):\n",
    "            subcomandos[i] = int(subcomandos[i])\n",
    "\n",
    "        # list(map(int, input().split()))\n",
    "        # if comandos[-1][-1].isnumeric() == int(comandos[-1][-1])\n",
    "        # comandos[-1][-2] = int(comandos[-1][-2])\n",
    "\n",
    "        for command in comandos:\n",
    "            if command[0] == 'insert':\n",
    "                resultado.insert(command[1], command[2])\n",
    "            elif command[0] == 'append':\n",
    "                resultado.append(command[1])\n",
    "            elif command[0] == 'remove':\n",
    "                resultado.remove(command[1])\n",
    "            elif command[0] == 'sort':\n",
    "                resultado.sort()\n",
    "            elif command[0] == 'pop':\n",
    "                resultado.pop()\n",
    "            elif command[0] == 'reverse':\n",
    "                resultado.reverse()\n",
    "            else:\n",
    "                print(resultado)\n",
    "            comandos.pop(0)\n",
    "\n"
   ]
  },
  {
   "cell_type": "code",
   "execution_count": null,
   "metadata": {},
   "outputs": [],
   "source": [
    "# Enter your code here. Read input from STDIN. Print output to STDOUT\n",
    "\n",
    "n = int(input())\n",
    "\n",
    "t = tuple(input())\n",
    "t2 = (1, 2)\n",
    "t2 = t\n",
    "\n",
    "print(len(t))\n",
    "print(hash(t))\n",
    "print(len(t2))\n",
    "print(hash(t2))"
   ]
  },
  {
   "cell_type": "code",
   "execution_count": null,
   "metadata": {},
   "outputs": [],
   "source": [
    "arr = [1, 2, 3, 4]\n",
    "# arr.reverse()\n",
    "arr = arr[::-1]\n",
    "arr = str(arr)\n",
    "arr = arr.strip()\n",
    "arr = arr.replace('[','')\n",
    "arr = arr.replace(',','')\n",
    "arr = arr.replace(']','')\n",
    "\n",
    "print(arr)\n",
    "print(''.join(map(str, arr)))"
   ]
  },
  {
   "cell_type": "code",
   "execution_count": null,
   "metadata": {},
   "outputs": [],
   "source": [
    "T = int(input())\n",
    "for i in range(T):\n",
    "    S = input()\n",
    "    print(S[::2] + ' ' + S[1::2])"
   ]
  },
  {
   "cell_type": "code",
   "execution_count": null,
   "metadata": {},
   "outputs": [],
   "source": [
    "def diagonalDifference(arr):\n",
    "    pd = []\n",
    "    sd = []\n",
    "    for i in range(len(arr)):\n",
    "        pd.append(arr[i][i])\n",
    "        sd.append(arr[i][n-1-i])\n",
    "\n",
    "    return abs(sum(pd) - sum(sd))\n",
    "\n",
    "if __name__ == '__main__':\n",
    "    \n",
    "    n = int(input().strip())\n",
    "\n",
    "    arr = []\n",
    "\n",
    "    for _ in range(n):\n",
    "        arr.append(list(map(int, input().rstrip().split())))\n",
    "\n",
    "    result = diagonalDifference(arr)\n",
    "    print(result)"
   ]
  },
  {
   "cell_type": "code",
   "execution_count": null,
   "metadata": {},
   "outputs": [],
   "source": [
    "def compareTriplets(a, b):\n",
    "    points = [0, 0]\n",
    "    for i in range(len(a)):\n",
    "        if a[i] > b[i]:\n",
    "            points[0] += 1\n",
    "        elif b[i] > a[i]:\n",
    "            points[1] += 1\n",
    "        else:\n",
    "            continue\n",
    "\n",
    "    return points\n",
    "\n",
    "if __name__ == '__main__':\n",
    "    a = list(map(int, input().rstrip().split()))\n",
    "\n",
    "    b = list(map(int, input().rstrip().split()))\n",
    "\n",
    "print(' '.join(map(str, (compareTriplets(a, b)))))\n"
   ]
  },
  {
   "cell_type": "code",
   "execution_count": null,
   "metadata": {},
   "outputs": [],
   "source": [
    "def plusMinus(arr, n):\n",
    "    \n",
    "    neg = pos = zeros = 0\n",
    "\n",
    "    for i in arr:\n",
    "        if i < 0:\n",
    "            neg += 1\n",
    "        elif i > 0:\n",
    "            pos += 1\n",
    "        else:\n",
    "            zeros += 1\n",
    "    \n",
    "    print(f\"{pos / n:.6f}\\n{neg / n:.6f}\\n{zeros / n:.6f}\")\n",
    "\n",
    "if __name__ == '__main__':\n",
    "    n = int(input().strip())\n",
    "\n",
    "    arr = list(map(int, input().rstrip().split()))\n",
    "\n",
    "    plusMinus(arr, n)"
   ]
  },
  {
   "cell_type": "code",
   "execution_count": null,
   "metadata": {},
   "outputs": [],
   "source": [
    "n = int(input())\n",
    "for i in range(1, n + 1):\n",
    "        txt = \"#\"\n",
    "        print(\"{:>6}\".format(txt * i))"
   ]
  },
  {
   "cell_type": "code",
   "execution_count": null,
   "metadata": {},
   "outputs": [],
   "source": [
    "n = int(input())\n",
    "for i in range(n+1):\n",
    "    txt = \"#\"\n",
    "    print(\" \" * (n-i) + \"{}\".format(txt * i))"
   ]
  },
  {
   "cell_type": "code",
   "execution_count": null,
   "metadata": {},
   "outputs": [],
   "source": [
    "help(str.split)"
   ]
  },
  {
   "cell_type": "code",
   "execution_count": null,
   "metadata": {},
   "outputs": [],
   "source": [
    "list = [1, 2, 3]\n",
    "tu = tuple(list)\n",
    "print(tu)"
   ]
  },
  {
   "cell_type": "code",
   "execution_count": null,
   "metadata": {},
   "outputs": [],
   "source": [
    "n = int(input())\n",
    "\n",
    "# Read the n space-separated integers and convert them to a tuple\n",
    "t = tuple(map(int, input().split()))\n",
    "\n",
    "print(hash(t))"
   ]
  },
  {
   "cell_type": "code",
   "execution_count": null,
   "metadata": {},
   "outputs": [],
   "source": [
    "A = [1, 2, 3, 4, 1, 2, 3, 4]\n",
    "for elemento in A:\n",
    "    count = A.count(elemento)\n",
    "    print(count)"
   ]
  },
  {
   "cell_type": "code",
   "execution_count": null,
   "metadata": {},
   "outputs": [],
   "source": [
    "from itertools import groupby\n",
    "\n",
    "S = []\n",
    "counts = []\n",
    "\n",
    "S = tuple(map(str, input().strip()))\n",
    "\n",
    "S = sorted(S)\n",
    "\n",
    "def contador(S):\n",
    "    counts = []\n",
    "    for elemento in S:\n",
    "        count = S.count(elemento)\n",
    "        if count > 0:\n",
    "            counts.append(count)\n",
    "        else:\n",
    "            continue\n",
    "    return counts\n",
    "\n",
    "def chave(counts):\n",
    "    for elemento in counts:\n",
    "        return elemento\n",
    "\n",
    "contador(S)\n",
    "chave(counts)\n",
    "print(counts)\n",
    "\n",
    "grouped_data = groupby(counts, chave(counts))\n",
    "\n",
    "for key, value in grouped_data:\n",
    "    print(key, tuple(value))\n",
    "\n",
    "# print(S)\n"
   ]
  },
  {
   "cell_type": "code",
   "execution_count": null,
   "metadata": {},
   "outputs": [],
   "source": [
    "arr = [1, 2, 3, 4, 5]\n",
    "arr[:0:-1]"
   ]
  },
  {
   "cell_type": "code",
   "execution_count": null,
   "metadata": {},
   "outputs": [],
   "source": [
    "help(dict.keys)"
   ]
  },
  {
   "cell_type": "code",
   "execution_count": null,
   "metadata": {},
   "outputs": [],
   "source": [
    "a = \"antonio\"\n",
    "for letter in a:\n",
    "    print(letter in \"abcdefghijklmnopqrstu\")\n",
    "    print(letter.upper())\n",
    "print(a)"
   ]
  },
  {
   "cell_type": "code",
   "execution_count": null,
   "metadata": {},
   "outputs": [],
   "source": [
    "def swap_case(s):\n",
    "\n",
    "    s_reconstr = \"\"\n",
    "\n",
    "    for letter in s:\n",
    "        if letter in \"ABCDEFGHIJKLMNOPQRSTUVWXYZ\":\n",
    "            s_reconstr += letter.lower()\n",
    "        else:\n",
    "            s_reconstr += letter.upper()\n",
    "\n",
    "\n",
    "    return s_reconstr\n",
    "\n",
    "if __name__ == '__main__':\n",
    "    s = input()\n",
    "    result = swap_case(s)\n",
    "    print(result)"
   ]
  },
  {
   "cell_type": "code",
   "execution_count": null,
   "metadata": {},
   "outputs": [],
   "source": [
    "def split_and_join(line):\n",
    "    line = line.split(\" \")\n",
    "    line = \"-\".join(line)\n",
    "\n",
    "    return line\n",
    "\n",
    "if __name__ == '__main__':\n",
    "    line = input()\n",
    "    result = split_and_join(line)\n",
    "    print(result)"
   ]
  },
  {
   "cell_type": "code",
   "execution_count": null,
   "metadata": {},
   "outputs": [],
   "source": [
    "a = \"asdfasd\"\n",
    "list(a)\n",
    "string = ''.join(a)\n",
    "print(string)"
   ]
  },
  {
   "cell_type": "code",
   "execution_count": null,
   "metadata": {},
   "outputs": [],
   "source": [
    "ans = str(['', '', '', '', ''])\n",
    "print(ans)\n",
    "print(type(ans))"
   ]
  },
  {
   "cell_type": "code",
   "execution_count": null,
   "metadata": {},
   "outputs": [],
   "source": [
    "if __name__ == '__main__':\n",
    "    \n",
    "    s = list(input())   \n",
    "    ans = [0, 0, 0, 0, 0]\n",
    "\n",
    "for char in s:\n",
    "    if char.isalnum():\n",
    "        ans[0] += 1\n",
    "    if char.isalpha():\n",
    "        ans[1] += 1\n",
    "    if char.isdigit():\n",
    "        ans[2] += 1\n",
    "    if char.islower():\n",
    "        ans[3] += 1\n",
    "    if char.isupper():\n",
    "        ans[4] += 1\n",
    "        \n",
    "for i in range(len(ans)):\n",
    "    print(bool(ans[i]))"
   ]
  },
  {
   "cell_type": "code",
   "execution_count": null,
   "metadata": {},
   "outputs": [],
   "source": [
    "candles = [3, 3, 1, 2]\n",
    "print(candles.count(max(candles)))\n"
   ]
  },
  {
   "cell_type": "code",
   "execution_count": 2,
   "metadata": {},
   "outputs": [
    {
     "name": "stdout",
     "output_type": "stream",
     "text": [
      "['1', '2', ':', '4', '5', ':', '0', '0']\n",
      "['1', '2', ':', '4', '5', ':', '0', '0']\n"
     ]
    }
   ],
   "source": [
    "a = \":45:00AM\"\n",
    "a = list(a)\n",
    "del a[-1:-3:-1]\n",
    "b = a \n",
    "print(a)\n",
    "print(b)"
   ]
  },
  {
   "cell_type": "code",
   "execution_count": null,
   "metadata": {},
   "outputs": [],
   "source": [
    "#!/bin/python3\n",
    "\n",
    "import math\n",
    "import os\n",
    "import random\n",
    "import re\n",
    "import sys\n",
    "\n",
    "#\n",
    "# Complete the 'timeConversion' function below.\n",
    "#\n",
    "# The function is expected to return a STRING.\n",
    "# The function accepts STRING s as parameter.\n",
    "#\n",
    "\n",
    "def timeConversion(s):\n",
    "    \n",
    "    s = list(s)\n",
    "    military_time = \"\"\n",
    "\n",
    "\n",
    "    if s[-2] == \"A\":\n",
    "        del s[-1:-3:-1]\n",
    "        military_time = s\n",
    "        \n",
    "        return military_time\n",
    "    else:\n",
    "\n",
    "    return\n",
    "\n",
    "if __name__ == '__main__':\n",
    "    \n",
    "    s = input()\n",
    "\n",
    "    result = timeConversion(s)\n",
    "\n"
   ]
  },
  {
   "cell_type": "code",
   "execution_count": 23,
   "metadata": {},
   "outputs": [
    {
     "name": "stdout",
     "output_type": "stream",
     "text": [
      "dict_keys(['antonio', 'harry'])\n",
      "antonio\n",
      "harry\n"
     ]
    }
   ],
   "source": [
    "b = {\"antonio\": \"123123123\", \"harry\": \"121231232\"}\n",
    "c = b.keys()\n",
    "print(c)\n",
    "\n",
    "for name in c:\n",
    "    querry = \n",
    "    print(name)"
   ]
  },
  {
   "cell_type": "code",
   "execution_count": 18,
   "metadata": {},
   "outputs": [
    {
     "name": "stdout",
     "output_type": "stream",
     "text": [
      "dict_keys(['antonio', 'harry'])\n",
      "antonio=123123\n",
      "Not found\n"
     ]
    }
   ],
   "source": [
    "# Enter your code here. Read input from STDIN. Print output to STDOUT\n",
    "\n",
    "n = int(input())\n",
    "\n",
    "friends = {}\n",
    "\n",
    "for i in range(n):\n",
    "    \n",
    "    name, phone = input().split()\n",
    "\n",
    "    friends[name] = phone\n",
    "\n",
    "print(friends.keys())\n",
    "\n",
    "for name in friends.keys():\n",
    "    query = str(input())\n",
    "    if name == query:\n",
    "        print(f\"{query}={friends[query]}\")\n",
    "    else:\n",
    "        print(\"Not found\")\n",
    "\n"
   ]
  },
  {
   "cell_type": "code",
   "execution_count": 12,
   "metadata": {},
   "outputs": [
    {
     "name": "stdout",
     "output_type": "stream",
     "text": [
      "antonio\n",
      "joao\n"
     ]
    }
   ],
   "source": [
    "friends = {\"antonio\":\"2141234\", \"joao\":\"14123412\"}\n",
    "\n",
    "for friend in friends:\n",
    "    print(friend)"
   ]
  },
  {
   "cell_type": "code",
   "execution_count": 6,
   "metadata": {},
   "outputs": [
    {
     "data": {
      "text/plain": [
       "True"
      ]
     },
     "execution_count": 6,
     "metadata": {},
     "output_type": "execute_result"
    }
   ],
   "source": [
    "a = input()\n",
    "bool(a)"
   ]
  },
  {
   "cell_type": "code",
   "execution_count": 5,
   "metadata": {},
   "outputs": [
    {
     "name": "stdout",
     "output_type": "stream",
     "text": [
      "{'The Dark Side of The Moon', 'Deep Purple'}\n"
     ]
    }
   ],
   "source": [
    "a = {\"AC/DC\", \"Back in Black\", \"Thriller\"}\n",
    "b = {\"The Dark Side of The Moon\", \"Deep Purple\"}\n",
    "\n",
    "c = (a and b)\n",
    "\n",
    "print(c)\n",
    "\n"
   ]
  },
  {
   "cell_type": "code",
   "execution_count": 4,
   "metadata": {},
   "outputs": [
    {
     "name": "stdout",
     "output_type": "stream",
     "text": [
      "range(0, 4)\n"
     ]
    }
   ],
   "source": [
    "r = range(4)\n",
    "print(r)"
   ]
  },
  {
   "cell_type": "code",
   "execution_count": 9,
   "metadata": {},
   "outputs": [
    {
     "name": "stdout",
     "output_type": "stream",
     "text": [
      "0\n",
      "red\n",
      "1\n",
      "yellow\n",
      "2\n",
      "green\n"
     ]
    }
   ],
   "source": [
    "squares = [\"red\", \"yellow\", \"green\"]\n",
    "for i, square in enumerate(squares):\n",
    "    print(i)\n",
    "    print(square)"
   ]
  },
  {
   "cell_type": "code",
   "execution_count": null,
   "metadata": {},
   "outputs": [],
   "source": [
    "for square in squares:\n",
    "    print(square)"
   ]
  },
  {
   "cell_type": "code",
   "execution_count": 7,
   "metadata": {},
   "outputs": [
    {
     "name": "stdout",
     "output_type": "stream",
     "text": [
      "\n",
      "1\n",
      "110\n",
      "1101\n",
      "11011\n",
      "1101110\n",
      "1101110100\n"
     ]
    }
   ],
   "source": [
    "name = '11011101001'\n",
    "substrings = []\n",
    "\n",
    "for i in range(len(name)):\n",
    "    if name[i] == \"1\":\n",
    "        substrings.append([i])\n",
    "\n",
    "    else:\n",
    "        substrings.append([])\n",
    "\n"
   ]
  },
  {
   "cell_type": "code",
   "execution_count": null,
   "metadata": {},
   "outputs": [],
   "source": [
    "n = int(input())\n",
    "binary = str(bin(n))\n",
    "\n",
    "for i in range(len(binary)):\n",
    "    if binary[i] == \"1\":\n",
    "        binary[:i+1]\n",
    "        "
   ]
  },
  {
   "cell_type": "code",
   "execution_count": 3,
   "metadata": {},
   "outputs": [
    {
     "name": "stdout",
     "output_type": "stream",
     "text": [
      "oi\n",
      "tchau\n"
     ]
    }
   ],
   "source": [
    "teste = [\"oi\",\"tchau\"]\n",
    "for i in teste:\n",
    "    print(f\"{i}\")"
   ]
  },
  {
   "cell_type": "code",
   "execution_count": 66,
   "metadata": {},
   "outputs": [
    {
     "name": "stdout",
     "output_type": "stream",
     "text": [
      "3\n",
      "['abcdefghijklmnopqrstuvwxyzad', '1324234']\n"
     ]
    }
   ],
   "source": [
    "nome = ['abcdefghijklmnopqrstuvwxyzad','1324234','']\n",
    "print(len(nome))\n",
    "\n",
    "for names in nome:\n",
    "    if names == '':\n",
    "        nome.remove(names)\n",
    "\n",
    "print(nome)"
   ]
  },
  {
   "cell_type": "code",
   "execution_count": 18,
   "metadata": {},
   "outputs": [
    {
     "data": {
      "text/plain": [
       "6"
      ]
     },
     "execution_count": 18,
     "metadata": {},
     "output_type": "execute_result"
    }
   ],
   "source": [
    "from math import ceil\n",
    "nome = \"ABCDEFGHIJKLIMNOQRSTUVWXYZ\"\n",
    "ceil(len(nome)//n)"
   ]
  },
  {
   "cell_type": "code",
   "execution_count": 23,
   "metadata": {},
   "outputs": [
    {
     "name": "stdout",
     "output_type": "stream",
     "text": [
      "ABCDEFGHIJKLIMNOQRSTUVWXYZ\n",
      "EFGHIJKLIMNOQRSTUVWXYZ\n",
      "IJKLIMNOQRSTUVWXYZ\n",
      "IMNOQRSTUVWXYZ\n",
      "QRSTUVWXYZ\n",
      "UVWXYZ\n",
      "YZ\n",
      "['ABCD', 'EFGH', 'IJKL', 'IMNO', 'QRST', 'UVWX', 'YZ']\n",
      "['ABCD', '\\n', 'EFGH', '\\n', 'IJKL', '\\n', 'IMNO', '\\n', 'QRST', 'UVWX', 'YZ']\n",
      "ABCD\n",
      "EFGH\n",
      "IJKL\n",
      "IMNO\n",
      "QRSTUVWXYZ\n"
     ]
    }
   ],
   "source": [
    "from math import ceil\n",
    "nome = 'ABCDEFGHIJKLIMNOQRSTUVWXYZ'\n",
    "\n",
    "substrings = []\n",
    "n = 4\n",
    "\n",
    "\n",
    "x = len(nome) // n\n",
    "\n",
    "for letter in range(ceil(x)+1):\n",
    "    substrings.append(nome[:n])\n",
    "    print(nome)\n",
    "    nome = nome[n:]\n",
    "\n",
    "print(substrings)\n",
    "\n",
    "for sub in range(1, len(substrings)+1, 2):\n",
    "    substrings.insert(sub, \"\\n\")\n",
    "\n",
    "print(substrings)\n",
    "result = \"\".join(substrings)\n",
    "\n",
    "print(result)\n"
   ]
  },
  {
   "cell_type": "code",
   "execution_count": null,
   "metadata": {},
   "outputs": [],
   "source": [
    "import textwrap\n",
    "\n",
    "def wrap(string, max_width):\n",
    "\n",
    "    string.split()\n",
    "\n",
    "    return\n",
    "\n",
    "if __name__ == '__main__':\n",
    "    string, max_width = input(), int(input())\n",
    "    result = wrap(string, max_width)\n",
    "    print(result)"
   ]
  },
  {
   "cell_type": "code",
   "execution_count": null,
   "metadata": {},
   "outputs": [],
   "source": [
    "#!/bin/python3\n",
    "\n",
    "import math\n",
    "import os\n",
    "import random\n",
    "import re\n",
    "import sys\n",
    "\n",
    "\n",
    "\n",
    "if __name__ == '__main__':\n",
    "    n = int(input().strip())\n",
    "    \n"
   ]
  },
  {
   "cell_type": "code",
   "execution_count": 5,
   "metadata": {},
   "outputs": [
    {
     "name": "stdout",
     "output_type": "stream",
     "text": [
      "2\n"
     ]
    }
   ],
   "source": [
    "#!/bin/python3\n",
    "\n",
    "import math\n",
    "import os\n",
    "import random\n",
    "import re\n",
    "import sys\n",
    "\n",
    "\n",
    "\n",
    "if __name__ == '__main__':\n",
    "    n = int(input().strip())\n",
    "    \n",
    "    bn = bin(n)\n",
    "\n",
    "    bn = str(bn[2:])\n",
    "\n",
    "    bn = bn.split('0')\n",
    "\n",
    "    comprimentos = [len(elemento) for elemento in bn]\n",
    "\n",
    "    print(max(comprimentos))\n"
   ]
  },
  {
   "cell_type": "code",
   "execution_count": 3,
   "metadata": {},
   "outputs": [
    {
     "name": "stdout",
     "output_type": "stream",
     "text": [
      "['hello', ' world']\n"
     ]
    }
   ],
   "source": [
    "a = \"hello, world\"\n",
    "print(a.split(','))"
   ]
  },
  {
   "cell_type": "code",
   "execution_count": null,
   "metadata": {},
   "outputs": [
    {
     "name": "stdout",
     "output_type": "stream",
     "text": [
      "['1', '', '1', '', '']\n"
     ]
    }
   ],
   "source": [
    "n = '100100'\n",
    "\n",
    "print(n.split('0'))"
   ]
  },
  {
   "cell_type": "code",
   "execution_count": null,
   "metadata": {},
   "outputs": [
    {
     "name": "stdout",
     "output_type": "stream",
     "text": [
      "0\n",
      "0\n",
      "0\n",
      "0\n",
      "1\n",
      "1\n",
      "1\n",
      "1\n",
      "2\n",
      "2\n",
      "2\n",
      "2\n"
     ]
    }
   ],
   "source": [
    "arr = [[0, 0, 0],[1, 1, 1],[2, 2, 2]]\n",
    "# Nested for\n",
    "for i in range(0, 3):\n",
    "    for j in range(0, 3):\n",
    "        print(arr[i][j])\n",
    "    print(arr[i][j])"
   ]
  },
  {
   "cell_type": "code",
   "execution_count": null,
   "metadata": {},
   "outputs": [],
   "source": [
    "(0, 0),(0, 1),(0, 2),(0, 3),(0, 4),(0, 5)\n",
    "(1, 0),(1, 1),(1, 2),(1, 3),(1, 4),(1, 5)\n",
    "(2, 0),(2, 1),(2, 2),(2, 3),(2, 4),(2, 5)"
   ]
  },
  {
   "cell_type": "code",
   "execution_count": 5,
   "metadata": {},
   "outputs": [
    {
     "name": "stdout",
     "output_type": "stream",
     "text": [
      "[[1, 2, 3, 4, 5, 6], [1, 2, 3, 4, 5, 6], [1, 2, 3, 4, 5, 6], [1, 2, 3, 4, 5, 6], [1, 2, 3, 4, 5, 6], [1, 2, 3, 4, 5, 6]]\n"
     ]
    }
   ],
   "source": [
    "arr = []\n",
    "\n",
    "for _ in range(6):\n",
    "    arr.append(list(map(int, input().rstrip().split())))\n",
    "print(arr)"
   ]
  },
  {
   "cell_type": "code",
   "execution_count": null,
   "metadata": {},
   "outputs": [
    {
     "name": "stdout",
     "output_type": "stream",
     "text": [
      "1 1 1 1\n",
      "2 2 2 10\n",
      "3 3 3 11\n",
      "4 4 4 100\n",
      "5 5 5 101\n",
      "6 6 6 110\n",
      "7 7 7 111\n",
      "8 10 8 1000\n",
      "9 11 9 1001\n",
      "10 12 a 1010\n",
      "11 13 b 1011\n",
      "12 14 c 1100\n",
      "13 15 d 1101\n",
      "14 16 e 1110\n",
      "15 17 f 1111\n",
      "16 20 10 10000\n"
     ]
    }
   ],
   "source": [
    "def print_formatted(number):\n",
    "\n",
    "    for i in range(1, number+1):\n",
    "\n",
    "        print(f'{i} {oct(i)[2:]} {hex(i)[2:]} {bin(i)[2:]}')\n",
    "\n",
    "if __name__ == '__main__':\n",
    "    n = int(input())\n",
    "    print_formatted(n)\n"
   ]
  },
  {
   "cell_type": "code",
   "execution_count": 17,
   "metadata": {},
   "outputs": [
    {
     "name": "stdout",
     "output_type": "stream",
     "text": [
      "\n"
     ]
    }
   ],
   "source": [
    "n = input()\n",
    "\n",
    "n = n.split(' ')\n",
    "\n",
    "titulo = [i.capitalize() for i in n]\n",
    "\n",
    "\n",
    "print(' '.join(map(str,titulo)))"
   ]
  }
 ],
 "metadata": {
  "kernelspec": {
   "display_name": "IBMDataScience",
   "language": "python",
   "name": "ibmdatascience"
  },
  "language_info": {
   "codemirror_mode": {
    "name": "ipython",
    "version": 3
   },
   "file_extension": ".py",
   "mimetype": "text/x-python",
   "name": "python",
   "nbconvert_exporter": "python",
   "pygments_lexer": "ipython3",
   "version": "3.13.1"
  }
 },
 "nbformat": 4,
 "nbformat_minor": 2
}
